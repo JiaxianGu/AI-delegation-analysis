{
 "cells": [
  {
   "cell_type": "code",
   "execution_count": 1,
   "metadata": {},
   "outputs": [],
   "source": [
    "import pandas as pd\n",
    "import matplotlib.pyplot as plt\n",
    "import seaborn as sns\n",
    "import numpy as np\n",
    "import copy\n",
    "import os\n",
    "sns.set(rc={'figure.figsize':(10,9)})"
   ]
  },
  {
   "cell_type": "code",
   "execution_count": 6,
   "metadata": {},
   "outputs": [
    {
     "data": {
      "text/plain": [
       "<Figure size 720x648 with 0 Axes>"
      ]
     },
     "metadata": {},
     "output_type": "display_data"
    }
   ],
   "source": [
    "main()"
   ]
  },
  {
   "cell_type": "markdown",
   "metadata": {},
   "source": [
    "### function to draw"
   ]
  },
  {
   "cell_type": "code",
   "execution_count": 2,
   "metadata": {},
   "outputs": [],
   "source": [
    "def Draw(distribution_table, attribute, category, distribution_type):\n",
    "    idx = []\n",
    "    for i in range(1,len(distribution_table)):\n",
    "        idx.append(str(i))\n",
    "    df = pd.DataFrame(distribution_table[0:-1, 0:-1], index = idx, columns = ['1','2','3','4'])\n",
    "    chart = sns.heatmap(df, cmap=\"Blues\", annot = True, linewidth = 0.5)\n",
    "    chart.set_yticklabels(chart.get_yticklabels(), rotation=0)\n",
    "    chart.set(xlabel = 'label', ylabel = 'answer')\n",
    "    chart.xaxis.tick_top()\n",
    "    chart.xaxis.set_label_position('top')\n",
    "    title = category+'_'+attribute+'_'+distribution_type\n",
    "    chart.set_title(title, fontsize = 20, fontweight = 'bold')\n",
    "    plt.savefig('figures/'+title+'.jpg' , dpi = 100)\n",
    "    plt.clf()"
   ]
  },
  {
   "cell_type": "markdown",
   "metadata": {},
   "source": [
    "### functions to do all the calculations"
   ]
  },
  {
   "cell_type": "code",
   "execution_count": 3,
   "metadata": {},
   "outputs": [],
   "source": [
    "def FindBiggestAnswer(nums: list[[int]]):\n",
    "    biggest = -1\n",
    "    for row in nums:\n",
    "        if row[0] > biggest:\n",
    "            biggest = row[0]\n",
    "    return biggest\n",
    "\n",
    "def CalcRowSums(nums: list[[int]]):\n",
    "    for row in nums:\n",
    "        sum = 0\n",
    "        for i in row:\n",
    "            sum += i\n",
    "        row.append(sum)\n",
    "\n",
    "def CalcColSums(nums: list[[int]]):\n",
    "    nums.append([])\n",
    "    for col in range(len(nums[0])):\n",
    "        sum = 0\n",
    "        for row in range(len(nums) - 1):\n",
    "            sum += nums[row][col]\n",
    "        nums[-1].append(sum)\n",
    "\n",
    "def CalcDelegabilityDistribution(nums: list[[int]]):\n",
    "    # print(nums)\n",
    "    new_2darr = copy.deepcopy(nums)\n",
    "    for row in range(len(new_2darr)-1):\n",
    "        for col in range(len(new_2darr[0])-1):\n",
    "            # print(new_2darr[row][col], type(new_2darr[row][col]), new_2darr[row][-1], type(new_2darr[row][-1]))\n",
    "            if new_2darr[row][-1] != 0:\n",
    "                new_2darr[row][col] = new_2darr[row][col] / new_2darr[row][-1]\n",
    "            # print(new_2darr[row][col])\n",
    "            else:\n",
    "                new_2darr[row][col] = 0\n",
    "    return new_2darr\n",
    "\n",
    "def CalcAnswerDistribution(nums: list[[int]]):\n",
    "    new_2darr = copy.deepcopy(nums)\n",
    "    for col in range(len(new_2darr[0])-1):\n",
    "        for row in range(len(new_2darr)-1):\n",
    "            if new_2darr[-1][col] != 0:\n",
    "                new_2darr[row][col] = new_2darr[row][col] / new_2darr[-1][col]\n",
    "            else:\n",
    "                new_2darr[row][col] = 0\n",
    "    return new_2darr\n",
    "\n",
    "def CalcJointDistribution(nums: list[[int]]):\n",
    "    new_2darr = copy.deepcopy(nums)\n",
    "    for row in range(len(new_2darr)-1):\n",
    "        for col in range(len(new_2darr[0])-1):\n",
    "            if new_2darr[-1][-1] != 0:\n",
    "                new_2darr[row][col] = new_2darr[row][col] / new_2darr[-1][-1]\n",
    "            else:\n",
    "                new_2darr[row][col] = 0\n",
    "    return new_2darr\n",
    "\n",
    "def GenerateArray(df,attribute, label):\n",
    "    x = []\n",
    "    for idx in df.index:\n",
    "        # print(type(df[attribute][idx]))\n",
    "        # print(int(df[attribute][idx]))\n",
    "        # if df[attribute][idx] == 'blank':\n",
    "        #     continue\n",
    "        # if not isinstance(df[attribute][idx], int):\n",
    "        #     continue\n",
    "        # print(type(df[attribute][idx]), type(df[label][idx]))\n",
    "        x.append([int(df[attribute][idx]), df[label][idx]])\n",
    "    x_arr = np.array(x)\n",
    "    answer_label = [[0]*4 for i in range(FindBiggestAnswer(x))]\n",
    "    for row in x_arr:\n",
    "        row[0] -= 1\n",
    "        row[1] -= 1\n",
    "    for row in x_arr:\n",
    "        r = row[0]\n",
    "        c = row[1]\n",
    "        answer_label[r][c] += 1\n",
    "    CalcRowSums(answer_label)\n",
    "    CalcColSums(answer_label)\n",
    "    # answer_label_arr = np.array(answer_label)\n",
    "    # print(answer_label_arr)\n",
    "    return answer_label\n",
    "    "
   ]
  },
  {
   "cell_type": "markdown",
   "metadata": {},
   "source": [
    "### functions before calculate joint distribution"
   ]
  },
  {
   "cell_type": "code",
   "execution_count": 4,
   "metadata": {},
   "outputs": [],
   "source": [
    "def OutputResults(file, category):\n",
    "    df = pd.read_csv(category + '/' + file)\n",
    "    file_name = file.replace('.csv','') # ex: japan_personal_entertainment\n",
    "    # print(file_name)\n",
    "    attributes = GetDFAttributes(df)\n",
    "    # print(attributes)\n",
    "    for attribute in attributes:\n",
    "        # print(attribute, '1')\n",
    "        sub_df = CreateNewDF(attribute, 'Delegability', df)\n",
    "        if np.isnan(sub_df[attribute][1]):\n",
    "            continue\n",
    "        # print(sub_df)\n",
    "        array = GenerateArray(sub_df, attribute, 'Delegability')\n",
    "        delegability_distribution = np.array(CalcDelegabilityDistribution(array))\n",
    "        answer_distribution = np.array(CalcAnswerDistribution(array))\n",
    "        joint_distribution = np.array(CalcJointDistribution(array))\n",
    "        # print(label_distribution)\n",
    "        # print(answer_distribution)\n",
    "        # print(joint_distribution)\n",
    "        # Draw(answer_distribution, attribute, file_name, 'answer_distribution')\n",
    "        # Draw(delegability_distribution, attribute, file_name, 'delegability_distribution')\n",
    "        Draw(joint_distribution, attribute, file_name, 'joint_distribution')\n",
    "        \n",
    "\n",
    "def GetDFAttributes(df):\n",
    "    attributes = []\n",
    "    for idx, column in enumerate(df.columns): # df.columns returns all column title of the df\n",
    "        # idx, column is for example\n",
    "        '''\n",
    "        0 Unnamed: 0\n",
    "        1 task\n",
    "        2 gender\n",
    "        3 age\n",
    "        4 tech_level\n",
    "        5 edu_level\n",
    "        6 d_social_skills\n",
    "        7 d_creativity\n",
    "        8 d_effort\n",
    "        9 d_expertise\n",
    "        10 d_abilities\n",
    "        11 r_accountable\n",
    "        12 r_uncertainty\n",
    "        13 r_impact\n",
    "        14 t_machine_ability\n",
    "        15 t_process\n",
    "        16 t_values\n",
    "        17 Delegability\n",
    "        '''\n",
    "        attributes.append(column)\n",
    "    attributes = attributes[4:-1]\n",
    "    return attributes\n",
    "    # returns a list consists fromthe 4th element to last second element from above, each element is a string\n",
    "\n",
    "def CreateNewDF(attribute, label, df):\n",
    "    newDF = df[[attribute, label]]\n",
    "    return newDF\n",
    "    # attribute is one column in original table. label is for example delegability\n",
    "    # returns a new df that has two column, one column is attribute, another column is label.\n",
    "    # input df is not used in this function"
   ]
  },
  {
   "cell_type": "markdown",
   "metadata": {},
   "source": [
    "## Iterate through all file"
   ]
  },
  {
   "cell_type": "code",
   "execution_count": 5,
   "metadata": {},
   "outputs": [],
   "source": [
    "def main():\n",
    "    main_directory = r'/Users/gujiaxian/Desktop/论文/project/calculate joint probability distribution/original categorized data'\n",
    "    dir_list = []\n",
    "\n",
    "    # this for loop iterate all folders under main_directory. Generate a list that consists of all folders under main_directory.\n",
    "    for filename in os.listdir(main_directory):\n",
    "        if filename == '.DS_Store':\n",
    "            continue\n",
    "        inner_dir = main_directory + '/' + filename\n",
    "        dir_list.append(inner_dir)\n",
    "    # print(dir_list)\n",
    "    \n",
    "    # this double for loop iterate through all files in main_directory. \n",
    "    # each file name is an input to OutputResults. The other input to OutputResults is the absolute path that consists of each file.\n",
    "    # all for loops are fine to use.\n",
    "    for category in dir_list: # dir_list is all 4 categories(us per, us exper, jp per, jp exper)\n",
    "        if filename == '.DS_Store':\n",
    "            continue\n",
    "        for filename in os.listdir(category): # filename is the real file name of each csv file, ex:japan_personal_entertainment.csv\n",
    "            if filename == '.DS_Store':\n",
    "                continue\n",
    "            OutputResults(filename, category)"
   ]
  },
  {
   "cell_type": "code",
   "execution_count": null,
   "metadata": {},
   "outputs": [],
   "source": []
  },
  {
   "cell_type": "code",
   "execution_count": null,
   "metadata": {},
   "outputs": [],
   "source": []
  },
  {
   "cell_type": "code",
   "execution_count": null,
   "metadata": {},
   "outputs": [],
   "source": []
  },
  {
   "cell_type": "code",
   "execution_count": null,
   "metadata": {},
   "outputs": [],
   "source": []
  },
  {
   "cell_type": "code",
   "execution_count": 60,
   "metadata": {},
   "outputs": [],
   "source": [
    "pd.set_option('display.max_rows', 20)"
   ]
  },
  {
   "cell_type": "code",
   "execution_count": 61,
   "metadata": {},
   "outputs": [],
   "source": [
    "america_personal_business = pd.read_csv(\"original categorized data/america personal/america_personal_business.csv\")"
   ]
  },
  {
   "cell_type": "code",
   "execution_count": 62,
   "metadata": {},
   "outputs": [
    {
     "data": {
      "text/plain": [
       "(104, 21)"
      ]
     },
     "execution_count": 62,
     "metadata": {},
     "output_type": "execute_result"
    }
   ],
   "source": [
    "america_personal_business.shape"
   ]
  },
  {
   "cell_type": "code",
   "execution_count": 63,
   "metadata": {},
   "outputs": [
    {
     "name": "stdout",
     "output_type": "stream",
     "text": [
      "0 Unnamed: 0\n",
      "1 task\n",
      "2 gender\n",
      "3 age\n",
      "4 tech_level\n",
      "5 edu_level\n",
      "6 s_social_skills\n",
      "7 s_creativity\n",
      "8 d_effort\n",
      "9 d_expertise\n",
      "10 d_abilities\n",
      "11 r_accountable\n",
      "12 r_uncertainty\n",
      "13 r_impact\n",
      "14 m_intrinsic\n",
      "15 m_learning\n",
      "16 m_important\n",
      "17 t_machine_ability\n",
      "18 t_process\n",
      "19 t_values\n",
      "20 label\n"
     ]
    }
   ],
   "source": [
    "for idx, column in enumerate(america_personal_business.columns):\n",
    "    print(idx, column)"
   ]
  },
  {
   "cell_type": "code",
   "execution_count": 64,
   "metadata": {},
   "outputs": [
    {
     "data": {
      "text/html": [
       "<div>\n",
       "<style scoped>\n",
       "    .dataframe tbody tr th:only-of-type {\n",
       "        vertical-align: middle;\n",
       "    }\n",
       "\n",
       "    .dataframe tbody tr th {\n",
       "        vertical-align: top;\n",
       "    }\n",
       "\n",
       "    .dataframe thead th {\n",
       "        text-align: right;\n",
       "    }\n",
       "</style>\n",
       "<table border=\"1\" class=\"dataframe\">\n",
       "  <thead>\n",
       "    <tr style=\"text-align: right;\">\n",
       "      <th></th>\n",
       "      <th>d_effort</th>\n",
       "      <th>label</th>\n",
       "    </tr>\n",
       "  </thead>\n",
       "  <tbody>\n",
       "    <tr>\n",
       "      <th>0</th>\n",
       "      <td>4</td>\n",
       "      <td>3</td>\n",
       "    </tr>\n",
       "    <tr>\n",
       "      <th>1</th>\n",
       "      <td>4</td>\n",
       "      <td>2</td>\n",
       "    </tr>\n",
       "    <tr>\n",
       "      <th>2</th>\n",
       "      <td>5</td>\n",
       "      <td>2</td>\n",
       "    </tr>\n",
       "    <tr>\n",
       "      <th>3</th>\n",
       "      <td>5</td>\n",
       "      <td>3</td>\n",
       "    </tr>\n",
       "    <tr>\n",
       "      <th>4</th>\n",
       "      <td>4</td>\n",
       "      <td>3</td>\n",
       "    </tr>\n",
       "    <tr>\n",
       "      <th>...</th>\n",
       "      <td>...</td>\n",
       "      <td>...</td>\n",
       "    </tr>\n",
       "    <tr>\n",
       "      <th>99</th>\n",
       "      <td>3</td>\n",
       "      <td>3</td>\n",
       "    </tr>\n",
       "    <tr>\n",
       "      <th>100</th>\n",
       "      <td>3</td>\n",
       "      <td>1</td>\n",
       "    </tr>\n",
       "    <tr>\n",
       "      <th>101</th>\n",
       "      <td>5</td>\n",
       "      <td>3</td>\n",
       "    </tr>\n",
       "    <tr>\n",
       "      <th>102</th>\n",
       "      <td>5</td>\n",
       "      <td>3</td>\n",
       "    </tr>\n",
       "    <tr>\n",
       "      <th>103</th>\n",
       "      <td>2</td>\n",
       "      <td>1</td>\n",
       "    </tr>\n",
       "  </tbody>\n",
       "</table>\n",
       "<p>104 rows × 2 columns</p>\n",
       "</div>"
      ],
      "text/plain": [
       "     d_effort  label\n",
       "0           4      3\n",
       "1           4      2\n",
       "2           5      2\n",
       "3           5      3\n",
       "4           4      3\n",
       "..        ...    ...\n",
       "99          3      3\n",
       "100         3      1\n",
       "101         5      3\n",
       "102         5      3\n",
       "103         2      1\n",
       "\n",
       "[104 rows x 2 columns]"
      ]
     },
     "execution_count": 64,
     "metadata": {},
     "output_type": "execute_result"
    }
   ],
   "source": [
    "america_personal_business[['d_effort','label']]"
   ]
  },
  {
   "cell_type": "code",
   "execution_count": 65,
   "metadata": {},
   "outputs": [
    {
     "data": {
      "text/plain": [
       "pandas.core.frame.DataFrame"
      ]
     },
     "execution_count": 65,
     "metadata": {},
     "output_type": "execute_result"
    }
   ],
   "source": [
    "type(america_personal_business)"
   ]
  },
  {
   "cell_type": "code",
   "execution_count": 66,
   "metadata": {},
   "outputs": [
    {
     "data": {
      "text/html": [
       "<div>\n",
       "<style scoped>\n",
       "    .dataframe tbody tr th:only-of-type {\n",
       "        vertical-align: middle;\n",
       "    }\n",
       "\n",
       "    .dataframe tbody tr th {\n",
       "        vertical-align: top;\n",
       "    }\n",
       "\n",
       "    .dataframe thead th {\n",
       "        text-align: right;\n",
       "    }\n",
       "</style>\n",
       "<table border=\"1\" class=\"dataframe\">\n",
       "  <thead>\n",
       "    <tr style=\"text-align: right;\">\n",
       "      <th></th>\n",
       "      <th>d_effort</th>\n",
       "      <th>label</th>\n",
       "    </tr>\n",
       "  </thead>\n",
       "  <tbody>\n",
       "    <tr>\n",
       "      <th>0</th>\n",
       "      <td>4</td>\n",
       "      <td>3</td>\n",
       "    </tr>\n",
       "    <tr>\n",
       "      <th>1</th>\n",
       "      <td>4</td>\n",
       "      <td>2</td>\n",
       "    </tr>\n",
       "    <tr>\n",
       "      <th>2</th>\n",
       "      <td>5</td>\n",
       "      <td>2</td>\n",
       "    </tr>\n",
       "    <tr>\n",
       "      <th>3</th>\n",
       "      <td>5</td>\n",
       "      <td>3</td>\n",
       "    </tr>\n",
       "    <tr>\n",
       "      <th>4</th>\n",
       "      <td>4</td>\n",
       "      <td>3</td>\n",
       "    </tr>\n",
       "    <tr>\n",
       "      <th>...</th>\n",
       "      <td>...</td>\n",
       "      <td>...</td>\n",
       "    </tr>\n",
       "    <tr>\n",
       "      <th>99</th>\n",
       "      <td>3</td>\n",
       "      <td>3</td>\n",
       "    </tr>\n",
       "    <tr>\n",
       "      <th>100</th>\n",
       "      <td>3</td>\n",
       "      <td>1</td>\n",
       "    </tr>\n",
       "    <tr>\n",
       "      <th>101</th>\n",
       "      <td>5</td>\n",
       "      <td>3</td>\n",
       "    </tr>\n",
       "    <tr>\n",
       "      <th>102</th>\n",
       "      <td>5</td>\n",
       "      <td>3</td>\n",
       "    </tr>\n",
       "    <tr>\n",
       "      <th>103</th>\n",
       "      <td>2</td>\n",
       "      <td>1</td>\n",
       "    </tr>\n",
       "  </tbody>\n",
       "</table>\n",
       "<p>104 rows × 2 columns</p>\n",
       "</div>"
      ],
      "text/plain": [
       "     d_effort  label\n",
       "0           4      3\n",
       "1           4      2\n",
       "2           5      2\n",
       "3           5      3\n",
       "4           4      3\n",
       "..        ...    ...\n",
       "99          3      3\n",
       "100         3      1\n",
       "101         5      3\n",
       "102         5      3\n",
       "103         2      1\n",
       "\n",
       "[104 rows x 2 columns]"
      ]
     },
     "execution_count": 66,
     "metadata": {},
     "output_type": "execute_result"
    }
   ],
   "source": [
    "america_personal_business_d_effort = pd.DataFrame(data = america_personal_business[['d_effort','label']])\n",
    "america_personal_business_d_effort"
   ]
  },
  {
   "cell_type": "code",
   "execution_count": 67,
   "metadata": {},
   "outputs": [
    {
     "name": "stdout",
     "output_type": "stream",
     "text": [
      "[[4, 3], [4, 2], [5, 2], [5, 3], [4, 3], [5, 3], [4, 2], [4, 1], [4, 2], [5, 1], [5, 2], [3, 2], [5, 2], [5, 1], [5, 3], [2, 3], [2, 3], [3, 4], [3, 2], [2, 3], [4, 2], [4, 3], [4, 4], [3, 2], [4, 4], [5, 3], [4, 3], [4, 4], [3, 3], [4, 3], [4, 3], [4, 2], [4, 3], [4, 2], [5, 4], [3, 2], [5, 2], [2, 1], [5, 3], [4, 3], [4, 3], [3, 3], [3, 3], [4, 2], [3, 2], [4, 3], [4, 3], [2, 4], [3, 3], [2, 2], [3, 2], [4, 3], [3, 3], [3, 2], [2, 3], [4, 3], [5, 1], [4, 3], [3, 3], [5, 2], [4, 2], [4, 1], [4, 2], [5, 3], [4, 1], [5, 2], [5, 3], [2, 1], [4, 3], [4, 3], [5, 4], [2, 2], [3, 2], [5, 4], [4, 2], [4, 2], [3, 3], [1, 2], [5, 3], [4, 2], [2, 1], [2, 3], [5, 3], [2, 2], [3, 3], [4, 4], [4, 3], [4, 4], [2, 2], [5, 2], [4, 4], [3, 2], [5, 3], [4, 3], [4, 2], [5, 2], [3, 1], [5, 3], [4, 2], [3, 3], [3, 1], [5, 3], [5, 3], [2, 1]]\n",
      "[[0.00000000e+00 1.00000000e+00 0.00000000e+00 0.00000000e+00\n",
      "  1.00000000e+00]\n",
      " [2.85714286e-01 2.85714286e-01 3.57142857e-01 7.14285714e-02\n",
      "  1.40000000e+01]\n",
      " [9.52380952e-02 4.28571429e-01 4.28571429e-01 4.76190476e-02\n",
      "  2.10000000e+01]\n",
      " [7.31707317e-02 3.41463415e-01 4.39024390e-01 1.46341463e-01\n",
      "  4.10000000e+01]\n",
      " [1.11111111e-01 2.96296296e-01 4.81481481e-01 1.11111111e-01\n",
      "  2.70000000e+01]\n",
      " [1.20000000e+01 3.60000000e+01 4.50000000e+01 1.10000000e+01\n",
      "  1.04000000e+02]]\n",
      "---------\n",
      "[[0.00000000e+00 2.77777778e-02 0.00000000e+00 0.00000000e+00\n",
      "  1.00000000e+00]\n",
      " [3.33333333e-01 1.11111111e-01 1.11111111e-01 9.09090909e-02\n",
      "  1.40000000e+01]\n",
      " [1.66666667e-01 2.50000000e-01 2.00000000e-01 9.09090909e-02\n",
      "  2.10000000e+01]\n",
      " [2.50000000e-01 3.88888889e-01 4.00000000e-01 5.45454545e-01\n",
      "  4.10000000e+01]\n",
      " [2.50000000e-01 2.22222222e-01 2.88888889e-01 2.72727273e-01\n",
      "  2.70000000e+01]\n",
      " [1.20000000e+01 3.60000000e+01 4.50000000e+01 1.10000000e+01\n",
      "  1.04000000e+02]]\n",
      "---------\n",
      "[[0.00000000e+00 9.61538462e-03 0.00000000e+00 0.00000000e+00\n",
      "  1.00000000e+00]\n",
      " [3.84615385e-02 3.84615385e-02 4.80769231e-02 9.61538462e-03\n",
      "  1.40000000e+01]\n",
      " [1.92307692e-02 8.65384615e-02 8.65384615e-02 9.61538462e-03\n",
      "  2.10000000e+01]\n",
      " [2.88461538e-02 1.34615385e-01 1.73076923e-01 5.76923077e-02\n",
      "  4.10000000e+01]\n",
      " [2.88461538e-02 7.69230769e-02 1.25000000e-01 2.88461538e-02\n",
      "  2.70000000e+01]\n",
      " [1.20000000e+01 3.60000000e+01 4.50000000e+01 1.10000000e+01\n",
      "  1.04000000e+02]]\n",
      "\n",
      "[[  0   1   0   0   1]\n",
      " [  4   4   5   1  14]\n",
      " [  2   9   9   1  21]\n",
      " [  3  14  18   6  41]\n",
      " [  3   8  13   3  27]\n",
      " [ 12  36  45  11 104]]\n"
     ]
    }
   ],
   "source": [
    "x = []\n",
    "for idx in america_personal_business_d_effort.index:\n",
    "    # print('d_effort is {}, label is {}.'.format(america_personal_business_d_effort['d_effort'][idx], america_personal_business_d_effort['label'][idx]))\n",
    "    x.append([america_personal_business_d_effort['d_effort'][idx], america_personal_business_d_effort['label'][idx]])\n",
    "print(x)\n",
    "x_arr = np.array(x)\n",
    "answer_label_distribution = [[0]*4 for i in range(FindBiggestAnswer(x))]\n",
    "# print(answer_label_distribution)\n",
    "for row in x_arr:\n",
    "    row[0] -= 1\n",
    "    row[1] -= 1\n",
    "for row in x_arr:\n",
    "    r = row[0]\n",
    "    c = row[1]\n",
    "    # print(r, c)\n",
    "    answer_label_distribution[r][c] += 1\n",
    "    # print(answer_label_distribution)\n",
    "# print(answer_label_distribution)\n",
    "answer_label_distribution_arr = np.array(answer_label_distribution)\n",
    "# print(answer_label_distribution_arr)\n",
    "\n",
    "CalcRowSums(answer_label_distribution)\n",
    "# print(answer_label_distribution)\n",
    "\n",
    "CalcColSums(answer_label_distribution)\n",
    "answer_label_distribution_arr = np.array(answer_label_distribution)\n",
    "# print(answer_label_distribution_arr)\n",
    "label_distribution = CalcLabelDistribution(answer_label_distribution)\n",
    "print(np.array(label_distribution))\n",
    "print('---------')\n",
    "answer_distribution = CalcAnswerDistribution(answer_label_distribution)\n",
    "print(np.array(answer_distribution))\n",
    "print('---------')\n",
    "joint_distribution = CalcJointDistribution(answer_label_distribution)\n",
    "print(np.array(joint_distribution))\n",
    "print()\n",
    "print(np.array(answer_label_distribution))\n",
    "\n"
   ]
  },
  {
   "cell_type": "code",
   "execution_count": 68,
   "metadata": {},
   "outputs": [
    {
     "name": "stdout",
     "output_type": "stream",
     "text": [
      "          1         2         3         4\n",
      "1  0.000000  0.009615  0.000000  0.000000\n",
      "2  0.038462  0.038462  0.048077  0.009615\n",
      "3  0.019231  0.086538  0.086538  0.009615\n",
      "4  0.028846  0.134615  0.173077  0.057692\n",
      "5  0.028846  0.076923  0.125000  0.028846\n"
     ]
    },
    {
     "data": {
      "image/png": "[encoded data removed]",
      "text/plain": [
       "<Figure size 432x288 with 2 Axes>"
      ]
     },
     "metadata": {
      "needs_background": "light"
     },
     "output_type": "display_data"
    }
   ],
   "source": [
    "df = pd.DataFrame(np.array(joint_distribution)[0:-1, 0:-1], index = ['1','2','3','4','5'], columns = ['1','2','3','4'])\n",
    "print(df)\n",
    "chart = sns.heatmap(df, cmap=\"Blues\", annot = True, linewidth = 0.5)\n",
    "chart.set_yticklabels(chart.get_yticklabels(), rotation=0)\n",
    "chart.set(xlabel = 'label', ylabel = 'answer')\n",
    "chart.xaxis.tick_top()\n",
    "chart.xaxis.set_label_position('top')\n",
    "chart.set_title('111', fontsize = 20, fontweight = 'bold')\n",
    "title = '456'\n",
    "plt.savefig('figures/'+title+'.jpg')\n"
   ]
  },
  {
   "cell_type": "code",
   "execution_count": 12,
   "metadata": {},
   "outputs": [
    {
     "name": "stdout",
     "output_type": "stream",
     "text": [
      "        Name  Age    Stream  Percentage\n",
      "0      Ankit   21      Math          88\n",
      "1       Amit   19  Commerce          92\n",
      "2  Aishwarya   20      Arts          95\n",
      "3   Priyanka   18   Biology          70\n",
      "Ankit Math\n",
      "Amit Commerce\n",
      "Aishwarya Arts\n",
      "Priyanka Biology\n"
     ]
    }
   ],
   "source": [
    "data = {'Name': ['Ankit', 'Amit', 'Aishwarya', 'Priyanka'],\n",
    "        'Age': [21, 19, 20, 18],\n",
    "        'Stream': ['Math', 'Commerce', 'Arts', 'Biology'],\n",
    "        'Percentage': [88, 92, 95, 70]}\n",
    "ex_df = pd.DataFrame(data, columns = ['Name', 'Age', 'Stream', 'Percentage'])\n",
    "print(ex_df)\n",
    "for idx in ex_df.index:\n",
    "    print(ex_df['Name'][idx], ex_df['Stream'][idx])"
   ]
  }
 ],
 "metadata": {
  "interpreter": {
   "hash": "93fea8f84695f11614f9bd0da192939b2c80b8c4d3bc8259b6557dedfdc720a6"
  },
  "kernelspec": {
   "display_name": "Python 3.9.2 64-bit ('venv': venv)",
   "name": "python3"
  },
  "language_info": {
   "codemirror_mode": {
    "name": "ipython",
    "version": 3
   },
   "file_extension": ".py",
   "mimetype": "text/x-python",
   "name": "python",
   "nbconvert_exporter": "python",
   "pygments_lexer": "ipython3",
   "version": "3.9.2"
  },
  "orig_nbformat": 4
 },
 "nbformat": 4,
 "nbformat_minor": 2
}
